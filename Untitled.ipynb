{
 "cells": [
  {
   "cell_type": "code",
   "execution_count": 1,
   "metadata": {},
   "outputs": [],
   "source": [
    "import json"
   ]
  },
  {
   "cell_type": "code",
   "execution_count": 4,
   "metadata": {},
   "outputs": [],
   "source": [
    "birthdays = {\n",
    "    \"Mariam\": \"February 22, 1997\",\n",
    "    \"Crestian\": \"June 12,1994\",\n",
    "    \"Varitos\": \"August 10,1991\",\n",
    "    \"Ismael\": \"December 7,1993\",\n",
    "    \"Paquillo\": \"December 1,2005\",\n",
    "    \"Jeimi\": \"June 2,1988\",\n",
    "    \"Daviliyo\": \"February 26,1991\",\n",
    "    \"Isaac\": \"December 5,1991\",\n",
    "    \"Tubito\": \"August 4,1996\"\n",
    "}\n",
    "\n",
    "with open(\"birthdays_info.json\",\"w\") as f:\n",
    "    json.dump(birthdays,f)"
   ]
  },
  {
   "cell_type": "code",
   "execution_count": null,
   "metadata": {},
   "outputs": [],
   "source": []
  }
 ],
 "metadata": {
  "kernelspec": {
   "display_name": "Python 3",
   "language": "python",
   "name": "python3"
  },
  "language_info": {
   "codemirror_mode": {
    "name": "ipython",
    "version": 3
   },
   "file_extension": ".py",
   "mimetype": "text/x-python",
   "name": "python",
   "nbconvert_exporter": "python",
   "pygments_lexer": "ipython3",
   "version": "3.6.4"
  }
 },
 "nbformat": 4,
 "nbformat_minor": 2
}
