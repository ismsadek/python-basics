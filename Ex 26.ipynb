{
 "cells": [
  {
   "cell_type": "code",
   "execution_count": null,
   "metadata": {},
   "outputs": [],
   "source": [
    "# As you may have guessed, we are trying to build up to a full tic-tac-toe board. However, this is significantly more than half an hour of coding, so we’re doing it in pieces.\n",
    "\n",
    "# Today, we will simply focus on checking whether someone has WON a game of Tic Tac Toe, not worrying about how the moves were made.\n",
    "\n",
    "# If a game of Tic Tac Toe is represented as a list of lists, like so:\n",
    "\n",
    "# game = [[1, 2, 0],\n",
    "# \t[2, 1, 0],\n",
    "# \t[2, 1, 1]]\n",
    "# where a 0 means an empty square, a 1 means that player 1 put their token in that space, and a 2 means that player 2 put their token in that space.\n",
    "\n",
    "# Your task this week: given a 3 by 3 list of lists that represents a Tic Tac Toe game board, tell me whether anyone has won, and tell me which player won, if any. A Tic Tac Toe win is 3 in a row - either in a row, a column, or a diagonal. Don’t worry about the case where TWO people have won - assume that in every board there will only be one winner.\n",
    "\n",
    "# Here are some more examples to work with:\n",
    "\n",
    "# winner_is_2 = [[2, 2, 0],\n",
    "# \t[2, 1, 0],\n",
    "# \t[2, 1, 1]]\n",
    "\n",
    "# winner_is_1 = [[1, 2, 0],\n",
    "# \t[2, 1, 0],\n",
    "# \t[2, 1, 1]]\n",
    "\n",
    "# winner_is_also_1 = [[0, 1, 0],\n",
    "# \t[2, 1, 0],\n",
    "# \t[2, 1, 1]]\n",
    "\n",
    "# no_winner = [[1, 2, 0],\n",
    "# \t[2, 1, 0],\n",
    "# \t[2, 1, 2]]\n",
    "\n",
    "# also_no_winner = [[1, 2, 0],\n",
    "# \t[2, 1, 0],\n",
    "# \t[2, 1, 0]]"
   ]
  },
  {
   "cell_type": "code",
   "execution_count": 49,
   "metadata": {},
   "outputs": [
    {
     "name": "stdout",
     "output_type": "stream",
     "text": [
      "Player 2 wins\n"
     ]
    }
   ],
   "source": [
    "game =  [[1, 1, 2],\n",
    "         [1, 2, 0],\n",
    "         [2, 1, 2]]\n",
    "\n",
    "def whoWins(game):\n",
    "    #rows\n",
    "    for x in range(0,3):\n",
    "        row  = set([game[x][0], game[x][1],game[x][2]])\n",
    "        if len(row) == 1 and game[x][0] != 0:\n",
    "            return game[x][0]\n",
    "    #columns\n",
    "    \n",
    "    for x in range(0,3):\n",
    "        column  = set([game[0][x], game[1][x],game[2][x]])\n",
    "        if len(column) == 1 and game[x][0] != 0:\n",
    "            return game[0][x]\n",
    "        \n",
    "    #diagonals\n",
    "    \n",
    "    diag1 = set([game[0][0], game[1][1], game[2][2]])\n",
    "    diag2 = set([game[0][2], game[1][1], game[2][0]])\n",
    "    if len(diag1) == 1 or len(diag2) == 1 and game[1][1] != 0:\n",
    "        return game[1][1]\n",
    "    \n",
    "player = whoWins(game)\n",
    "if player == 1:\n",
    "    print('Player 1 wins!')\n",
    "elif player == 2:\n",
    "    print('Player 2 wins')\n",
    "else:\n",
    "    print('Nobody wins!')"
   ]
  },
  {
   "cell_type": "code",
   "execution_count": null,
   "metadata": {},
   "outputs": [],
   "source": []
  },
  {
   "cell_type": "code",
   "execution_count": null,
   "metadata": {},
   "outputs": [],
   "source": []
  }
 ],
 "metadata": {
  "kernelspec": {
   "display_name": "Python 3",
   "language": "python",
   "name": "python3"
  },
  "language_info": {
   "codemirror_mode": {
    "name": "ipython",
    "version": 3
   },
   "file_extension": ".py",
   "mimetype": "text/x-python",
   "name": "python",
   "nbconvert_exporter": "python",
   "pygments_lexer": "ipython3",
   "version": "3.6.4"
  }
 },
 "nbformat": 4,
 "nbformat_minor": 2
}
