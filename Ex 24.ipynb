{
 "cells": [
  {
   "cell_type": "code",
   "execution_count": null,
   "metadata": {},
   "outputs": [],
   "source": [
    "# This exercise is Part 1 of 4 of the Tic Tac Toe exercise series. The other exercises are: Part 2, Part 3, and Part 4.\n",
    "\n",
    "# Time for some fake graphics! Let’s say we want to draw game boards that look like this:\n",
    "\n",
    "#  --- --- --- \n",
    "# |   |   |   | \n",
    "#  --- --- ---  \n",
    "# |   |   |   | \n",
    "#  --- --- ---  \n",
    "# |   |   |   | \n",
    "#  --- --- --- \n",
    "# This one is 3x3 (like in tic tac toe). Obviously, they come in many other sizes (8x8 for chess, 19x19 for Go, and many more).\n",
    "\n",
    "# Ask the user what size game board they want to draw, and draw it for them to the screen using Python’s print statement."
   ]
  },
  {
   "cell_type": "code",
   "execution_count": 54,
   "metadata": {},
   "outputs": [
    {
     "name": "stdout",
     "output_type": "stream",
     "text": [
      "Welcome to the Board Maker!! Choose a dimension for the board, e.g 3x3, 8x8 etc\n",
      "Choose a dimension for the board, e.g 3x3, 8x8, etc, introduce only the first number: 4\n",
      " --- --- --- ---\n",
      "|   |   |   |   |   \n",
      " --- --- --- ---\n",
      "|   |   |   |   |   \n",
      " --- --- --- ---\n",
      "|   |   |   |   |   \n",
      " --- --- --- ---\n",
      "|   |   |   |   |   \n",
      " --- --- --- ---\n"
     ]
    }
   ],
   "source": [
    "def boardMaker(n):\n",
    "    \n",
    "    for index in range(n):\n",
    "        print (n * ' ---')\n",
    "        print((n+1) * '|   ')\n",
    "        \n",
    "    print (n*' ---')    \n",
    "          \n",
    "\n",
    "if __name__==\"__main__\":\n",
    "    print('Welcome to the Board Maker!! Choose a dimension for the board, e.g 3x3, 8x8 etc')\n",
    "    n = int(input('Choose a dimension for the board, e.g 3x3, 8x8, etc, introduce only the first number: '))\n",
    "    boardMaker(n)\n",
    "\n"
   ]
  },
  {
   "cell_type": "code",
   "execution_count": null,
   "metadata": {},
   "outputs": [],
   "source": []
  }
 ],
 "metadata": {
  "kernelspec": {
   "display_name": "Python 3",
   "language": "python",
   "name": "python3"
  },
  "language_info": {
   "codemirror_mode": {
    "name": "ipython",
    "version": 3
   },
   "file_extension": ".py",
   "mimetype": "text/x-python",
   "name": "python",
   "nbconvert_exporter": "python",
   "pygments_lexer": "ipython3",
   "version": "3.6.4"
  }
 },
 "nbformat": 4,
 "nbformat_minor": 2
}
