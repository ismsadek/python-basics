{
 "cells": [
  {
   "cell_type": "code",
   "execution_count": null,
   "metadata": {},
   "outputs": [],
   "source": [
    "# Write a program (using functions!) that asks the user for a long string containing multiple words. Print back to the user the same string, except with the words in backwards order. For example, say I type the string:\n",
    "\n",
    "#   My name is Michele\n",
    "# Then I would see the string:\n",
    "\n",
    "#   Michele is name My\n",
    "# shown back to me."
   ]
  },
  {
   "cell_type": "code",
   "execution_count": 22,
   "metadata": {},
   "outputs": [
    {
     "name": "stdout",
     "output_type": "stream",
     "text": [
      "Write a sentence and I reverse it: My name is Michele\n",
      "['My', 'name', 'is', 'Michele']\n"
     ]
    },
    {
     "data": {
      "text/plain": [
       "'Michele is name My'"
      ]
     },
     "execution_count": 22,
     "metadata": {},
     "output_type": "execute_result"
    }
   ],
   "source": [
    "def reverseString():\n",
    "    mylist = input('Write a sentence and I reverse it: ')\n",
    "    result = mylist.split()\n",
    "    print(result)\n",
    "    result2 = list(reversed(result))\n",
    "    return \" \".join(result2)\n",
    "    \n",
    "reverseString() "
   ]
  },
  {
   "cell_type": "code",
   "execution_count": null,
   "metadata": {},
   "outputs": [],
   "source": []
  }
 ],
 "metadata": {
  "kernelspec": {
   "display_name": "Python 3",
   "language": "python",
   "name": "python3"
  },
  "language_info": {
   "codemirror_mode": {
    "name": "ipython",
    "version": 3
   },
   "file_extension": ".py",
   "mimetype": "text/x-python",
   "name": "python",
   "nbconvert_exporter": "python",
   "pygments_lexer": "ipython3",
   "version": "3.6.4"
  }
 },
 "nbformat": 4,
 "nbformat_minor": 2
}
