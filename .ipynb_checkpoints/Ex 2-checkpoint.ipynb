{
 "cells": [
  {
   "cell_type": "code",
   "execution_count": 1,
   "metadata": {},
   "outputs": [],
   "source": [
    "# Ask the user for a number. Depending on whether the number is even or odd, print out an appropriate message to the user. Hint: how does an even / odd number react differently when divided by 2?\n",
    "# Extras:\n",
    "\n",
    "# If the number is a multiple of 4, print out a different message.\n",
    "# Ask the user for two numbers: one number to check (call it num) and one number\n",
    "# to divide by (check). If check divides evenly into num, tell that to the user. If not, print a different appropriate message."
   ]
  },
  {
   "cell_type": "code",
   "execution_count": 9,
   "metadata": {},
   "outputs": [
    {
     "name": "stdout",
     "output_type": "stream",
     "text": [
      "Insert a number: 87\n",
      "Insert another number: 2\n",
      "Number 87 does not divided evenly by 2\n"
     ]
    }
   ],
   "source": [
    "num = int(input('Insert a number: '))\n",
    "check = int(input('Insert another number: '))\n",
    "\n",
    "if num % check == 0:\n",
    "    print('The numbers introduced are multiples')\n",
    "else:\n",
    "    print('Number {} does not divided evenly by {}'.format(num, check))\n"
   ]
  },
  {
   "cell_type": "code",
   "execution_count": null,
   "metadata": {},
   "outputs": [],
   "source": [
    "num = int(input('Insert a number: '))\n",
    "check = int(input('Insert another number: '))\n",
    "\n",
    "if num % 4 == 0:\n",
    "    print('The number {} is multiple of 4').format(num)\n",
    "elif num % 2 == 0:\n",
    "    print('The number is even')\n",
    "else:\n",
    "    print('Number {} is odd'.format(num))"
   ]
  }
 ],
 "metadata": {
  "kernelspec": {
   "display_name": "Python 3",
   "language": "python",
   "name": "python3"
  },
  "language_info": {
   "codemirror_mode": {
    "name": "ipython",
    "version": 3
   },
   "file_extension": ".py",
   "mimetype": "text/x-python",
   "name": "python",
   "nbconvert_exporter": "python",
   "pygments_lexer": "ipython3",
   "version": "3.6.4"
  }
 },
 "nbformat": 4,
 "nbformat_minor": 2
}
