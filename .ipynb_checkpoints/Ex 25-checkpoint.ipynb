{
 "cells": [
  {
   "cell_type": "code",
   "execution_count": null,
   "metadata": {},
   "outputs": [],
   "source": [
    "# This time, we’re going to do exactly the opposite. You, the user, will have in your head a number between 0 and 100. The program will guess a number, and you, the user, will say whether it is too high, too low, or your number.\n",
    "\n",
    "# At the end of this exchange, your program should print out how many guesses it took to get your number.\n",
    "\n",
    "# As the writer of this program, you will have to choose how your program will strategically guess. A naive strategy can be to simply start the guessing at 1, and keep going (2, 3, 4, etc.) until you hit the number. But that’s not an optimal guessing strategy. An alternate strategy might be to guess 50 (right in the middle of the range), and then increase / decrease by 1 as needed. After you’ve written the program, try to find the optimal strategy!"
   ]
  },
  {
   "cell_type": "code",
   "execution_count": 8,
   "metadata": {},
   "outputs": [
    {
     "name": "stdout",
     "output_type": "stream",
     "text": [
      "Introduce a number between 0 and 100: 50\n",
      "I have guessed your number!! it is the 50\n"
     ]
    }
   ],
   "source": [
    "# Without binary search\n",
    "\n",
    "import random \n",
    "\n",
    "\n",
    "def searchNum(user_num):\n",
    "    if user_num >= 50:\n",
    "        for i in range(50,100):\n",
    "            if user_num == i:\n",
    "                print('I have guessed your number!! it is the {}'.format(i))\n",
    "    \n",
    "    if user_num < 50:\n",
    "        for i in range(0,50):\n",
    "            if user_num == i:\n",
    "                print('I have guessed your number!! it is the {}'.format(i))\n",
    "\n",
    "\n",
    "\n",
    "if __name__==\"__main__\":\n",
    "    user_num = int(input('Introduce a number between 0 and 100: '))\n",
    "    searchNum(user_num)"
   ]
  },
  {
   "cell_type": "code",
   "execution_count": 17,
   "metadata": {},
   "outputs": [
    {
     "name": "stdout",
     "output_type": "stream",
     "text": [
      "Introduce a number between 0 and 100: 1\n",
      "I have guessed your number!! it is the 1.0\n",
      "It takes me to guess your number 99 strikes\n"
     ]
    }
   ],
   "source": [
    "# Implementing binary search\n",
    "\n",
    "def binarySearch(user_num):\n",
    "    l = 0\n",
    "    t = 100\n",
    "    counter = 0\n",
    "    while l<t:\n",
    "        m = (t+l)/2\n",
    "        counter += 1\n",
    "        if m == user_num:\n",
    "            print('I have guessed your number!! it is the {}'.format(m))\n",
    "            break\n",
    "        elif m < user_num:\n",
    "            l += 1\n",
    "        elif m > user_num:\n",
    "            t -= 1\n",
    "    return counter\n",
    "        \n",
    "            \n",
    "\n",
    "if __name__==\"__main__\":\n",
    "    user_num = int(input('Introduce a number between 0 and 100: '))\n",
    "    counter = binarySearch(user_num)\n",
    "    print('It takes me to guess your number {} strikes'.format(counter))\n"
   ]
  },
  {
   "cell_type": "code",
   "execution_count": null,
   "metadata": {},
   "outputs": [],
   "source": []
  },
  {
   "cell_type": "code",
   "execution_count": null,
   "metadata": {},
   "outputs": [],
   "source": []
  }
 ],
 "metadata": {
  "kernelspec": {
   "display_name": "Python 3",
   "language": "python",
   "name": "python3"
  },
  "language_info": {
   "codemirror_mode": {
    "name": "ipython",
    "version": 3
   },
   "file_extension": ".py",
   "mimetype": "text/x-python",
   "name": "python",
   "nbconvert_exporter": "python",
   "pygments_lexer": "ipython3",
   "version": "3.6.4"
  }
 },
 "nbformat": 4,
 "nbformat_minor": 2
}
