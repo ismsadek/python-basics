{
 "cells": [
  {
   "cell_type": "code",
   "execution_count": null,
   "metadata": {},
   "outputs": [],
   "source": [
    "# Make a two-player Rock-Paper-Scissors game. (Hint: Ask for player plays (using input), compare them, print out a message of congratulations to the winner, and ask if the players want to start a new game)\n",
    "\n",
    "# Remember the rules:\n",
    "\n",
    "# Rock beats scissors\n",
    "# Scissors beats paper\n",
    "# Paper beats rock"
   ]
  },
  {
   "cell_type": "code",
   "execution_count": null,
   "metadata": {},
   "outputs": [],
   "source": [
    "game = True\n",
    "while True:\n",
    "    \n",
    "    pl1 = input('Player 1! rock, scissors or paper? ')\n",
    "    pl2 = input('Player 2! rock, scissors or paper? ')\n",
    "    \n",
    "    if pl1 == 'rock' and pl2 == 'paper':\n",
    "        print('Player 2 wins!!')\n",
    "    elif pl1 == 'scissors' and pl2 == 'paper':\n",
    "        print('Player 1 wins!!')\n",
    "    elif pl1 == 'paper' and pl2 == 'rock':\n",
    "        print('Player 1 wins!!')\n",
    "    elif pl1 == 'rock' and pl2 == 'scissors':\n",
    "        print('Player 1 wins!!')\n",
    "    elif pl2 == 'rock' and pl1 == 'scissors':\n",
    "        print('Player 2 wins!!')\n",
    "    elif pl2 == 'scissors' and pl1 == 'paper':\n",
    "        print('Player 2 wins!!')\n",
    "    else:\n",
    "        print('Introduce a correct role!')\n",
    "    \n",
    "    veredict = input('Another game? yes or not ')\n",
    "    if veredict != 'yes':\n",
    "        break\n",
    "    \n",
    "    \n",
    "    "
   ]
  },
  {
   "cell_type": "code",
   "execution_count": null,
   "metadata": {},
   "outputs": [],
   "source": []
  }
 ],
 "metadata": {
  "kernelspec": {
   "display_name": "Python 3",
   "language": "python",
   "name": "python3"
  },
  "language_info": {
   "codemirror_mode": {
    "name": "ipython",
    "version": 3
   },
   "file_extension": ".py",
   "mimetype": "text/x-python",
   "name": "python",
   "nbconvert_exporter": "python",
   "pygments_lexer": "ipython3",
   "version": "3.6.4"
  }
 },
 "nbformat": 4,
 "nbformat_minor": 2
}
