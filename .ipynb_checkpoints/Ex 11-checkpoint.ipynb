{
 "cells": [
  {
   "cell_type": "code",
   "execution_count": null,
   "metadata": {},
   "outputs": [],
   "source": [
    "# Ask the user for a number and determine whether the number is prime or not. (For those who have forgotten, a prime number is a number that has no divisors.). You can (and should!) use your answer to Exercise 4 to help you. Take this opportunity to practice using functions, described below."
   ]
  },
  {
   "cell_type": "code",
   "execution_count": 18,
   "metadata": {},
   "outputs": [
    {
     "name": "stdout",
     "output_type": "stream",
     "text": [
      "Introduce a number: 6\n",
      "[1, 2, 3, 6]\n",
      "The number introduced is not prime\n"
     ]
    }
   ],
   "source": [
    "num = int(input('Introduce a number: '))\n",
    "result = []\n",
    "def checkPrime(num,result):\n",
    "    \n",
    "    for i in range(1,num+1):\n",
    "        if num % i == 0:\n",
    "            result.append(i)\n",
    "    if len(result) == 2:\n",
    "        print('The number introduced is prime')\n",
    "    else:\n",
    "        print('The number introduced is not prime')\n",
    "\n",
    "\n",
    "checkPrime(num,result)\n",
    "\n"
   ]
  },
  {
   "cell_type": "code",
   "execution_count": null,
   "metadata": {},
   "outputs": [],
   "source": []
  }
 ],
 "metadata": {
  "kernelspec": {
   "display_name": "Python 3",
   "language": "python",
   "name": "python3"
  },
  "language_info": {
   "codemirror_mode": {
    "name": "ipython",
    "version": 3
   },
   "file_extension": ".py",
   "mimetype": "text/x-python",
   "name": "python",
   "nbconvert_exporter": "python",
   "pygments_lexer": "ipython3",
   "version": "3.6.4"
  }
 },
 "nbformat": 4,
 "nbformat_minor": 2
}
