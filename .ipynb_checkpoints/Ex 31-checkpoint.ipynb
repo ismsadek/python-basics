{
 "cells": [
  {
   "cell_type": "code",
   "execution_count": null,
   "metadata": {},
   "outputs": [],
   "source": [
    "# Let’s continue building Hangman. In the game of Hangman, a clue word is given by the program that the player has to guess, letter by letter. The player guesses one letter at a time until the entire word has been guessed. (In the actual game, the player can only guess 6 letters incorrectly before losing)."
   ]
  },
  {
   "cell_type": "code",
   "execution_count": 3,
   "metadata": {},
   "outputs": [
    {
     "name": "stdout",
     "output_type": "stream",
     "text": [
      "UTILISERS\n",
      "Welcome to Hangman!\n",
      "Guess your letter: e\n",
      "______E__\n",
      "Guess your letter: i\n",
      "__I_I_E__\n",
      "Guess your letter: t\n",
      "_TI_I_E__\n",
      "Guess your letter: u\n",
      "UTI_I_E__\n",
      "Guess your letter: l\n",
      "UTILI_E__\n",
      "Guess your letter: s\n",
      "UTILISE_S\n",
      "Guess your letter: r\n",
      "UTILISERS\n",
      "You won!!\n"
     ]
    }
   ],
   "source": [
    "import random\n",
    "\n",
    "def sowPods():\n",
    "    with open('sowpods.txt', 'r') as f:\n",
    "        lines = f.readlines()\n",
    "    word = random.choice(lines).strip()\n",
    "    print(word)\n",
    "    word = list(word)\n",
    "    gaps = '_' * len(word)\n",
    "    gaps = list(gaps)\n",
    "    guessed = []  \n",
    "    print('Welcome to Hangman!') \n",
    "    count = 0\n",
    "    while True:\n",
    "        letter = input('Guess your letter: ')\n",
    "        if letter.upper() in guessed:\n",
    "            print('Already guessed!')\n",
    "        elif letter.upper() in word:\n",
    "            for i in range(len(word)):\n",
    "                if letter.upper() == word[i]:\n",
    "                    index = word.index(letter.upper())\n",
    "                    gaps[index] = letter.upper()\n",
    "                    word[index] = '_'\n",
    "                    guessed.append(letter.upper())\n",
    "            print(''.join(gaps))\n",
    "        \n",
    "        else:\n",
    "            print('Incorrect!')\n",
    "            count  += 1\n",
    "            if count == 6:\n",
    "                print('You loose!!')\n",
    "                break\n",
    "        if '_' not in gaps:\n",
    "            print(\"You won!!\")\n",
    "            break\n",
    "            \n",
    "sowPods()"
   ]
  },
  {
   "cell_type": "code",
   "execution_count": null,
   "metadata": {},
   "outputs": [],
   "source": []
  },
  {
   "cell_type": "code",
   "execution_count": null,
   "metadata": {},
   "outputs": [],
   "source": []
  },
  {
   "cell_type": "code",
   "execution_count": null,
   "metadata": {},
   "outputs": [],
   "source": []
  }
 ],
 "metadata": {
  "kernelspec": {
   "display_name": "Python 3",
   "language": "python",
   "name": "python3"
  },
  "language_info": {
   "codemirror_mode": {
    "name": "ipython",
    "version": 3
   },
   "file_extension": ".py",
   "mimetype": "text/x-python",
   "name": "python",
   "nbconvert_exporter": "python",
   "pygments_lexer": "ipython3",
   "version": "3.6.4"
  }
 },
 "nbformat": 4,
 "nbformat_minor": 2
}
