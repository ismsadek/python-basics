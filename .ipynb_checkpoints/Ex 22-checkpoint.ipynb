{
 "cells": [
  {
   "cell_type": "code",
   "execution_count": null,
   "metadata": {},
   "outputs": [],
   "source": [
    "# Given a .txt file that has a list of a bunch of names, count how many of each name there are in the file, \n",
    "# and print out the results to the screen. I have a .txt file for you, if you want to use it!\n",
    "\n",
    "# Extra:\n",
    "\n",
    "# Instead of using the .txt file from above (or instead of, if you want the challenge), take this .txt file,\n",
    "# and count how many of each “category” of each image there are. This text file is actually\n",
    "# a list of files corresponding to the SUN database scene recognition database, \n",
    "# and lists the file directory hierarchy for the images. Once you take a look at the first line or two of the file,\n",
    "# it will be clear which part represents the scene category. To do this, you’re going to have to \n",
    "# remember a bit about string parsing in Python 3. I talked a little bit about it in this post.\n",
    "\n"
   ]
  },
  {
   "cell_type": "code",
   "execution_count": 1,
   "metadata": {},
   "outputs": [
    {
     "name": "stdout",
     "output_type": "stream",
     "text": [
      "There are 100 names in the list\n"
     ]
    }
   ],
   "source": [
    "with open('nameslist.txt', 'r') as open_file:\n",
    "    line = open_file.readline()\n",
    "    count = 0\n",
    "    while line:\n",
    "        #print(line)\n",
    "        line = line.strip()\n",
    "        count += 1\n",
    "        line = open_file.readline()\n",
    "\n",
    "print('There are {} names in the list'.format(count))\n",
    "\n",
    "\n",
    "\n"
   ]
  },
  {
   "cell_type": "code",
   "execution_count": null,
   "metadata": {},
   "outputs": [],
   "source": [
    "categories = {}\n",
    "with open('Training_01.txt') as f:\n",
    "\tline = f.readline()\n",
    "\twhile line:\n",
    "\t\tline = line[3:-26]\n",
    "\t\tif line in categories:\n",
    "\t\t\tcategories[line] += 1\n",
    "          \n",
    "\t\telse:\n",
    "\t\t\tcategories[line] = 1\n",
    "\t\tline = f.readline()\n",
    "\n",
    "print(categories)"
   ]
  },
  {
   "cell_type": "code",
   "execution_count": null,
   "metadata": {},
   "outputs": [],
   "source": []
  },
  {
   "cell_type": "code",
   "execution_count": null,
   "metadata": {},
   "outputs": [],
   "source": []
  }
 ],
 "metadata": {
  "kernelspec": {
   "display_name": "Python 3",
   "language": "python",
   "name": "python3"
  },
  "language_info": {
   "codemirror_mode": {
    "name": "ipython",
    "version": 3
   },
   "file_extension": ".py",
   "mimetype": "text/x-python",
   "name": "python",
   "nbconvert_exporter": "python",
   "pygments_lexer": "ipython3",
   "version": "3.6.4"
  }
 },
 "nbformat": 4,
 "nbformat_minor": 2
}
