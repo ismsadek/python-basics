{
 "cells": [
  {
   "cell_type": "code",
   "execution_count": null,
   "metadata": {},
   "outputs": [],
   "source": [
    "# Generate a random number between 1 and 9 (including 1 and 9). Ask the user to guess the number, then tell them whether they guessed too low, too high, or exactly right. (Hint: remember to use the user input lessons from the very first exercise)\n",
    "\n",
    "# Extras:\n",
    "\n",
    "# Keep the game going until the user types “exit”\n",
    "# Keep track of how many guesses the user has taken, and when the game ends, print this out."
   ]
  },
  {
   "cell_type": "code",
   "execution_count": 1,
   "metadata": {},
   "outputs": [
    {
     "name": "stdout",
     "output_type": "stream",
     "text": [
      "Let's play a game! I'm going to save a number between 1 and 9, you have to guess it!\n",
      "7\n",
      "Introduce a number between 1-9: 7\n",
      "Your number is the correct one! you win\n",
      "Another game? write \"exit\" to quit5\n",
      "8\n",
      "Introduce a number between 1-9: 4\n",
      "Your number is smaller\n",
      "Another game? write \"exit\" to quity\n",
      "1\n",
      "Introduce a number between 1-9: 1\n",
      "Your number is the correct one! you win\n",
      "Another game? write \"exit\" to quitexit\n",
      "You have won 2 times\n"
     ]
    }
   ],
   "source": [
    "import random\n",
    "\n",
    "print(\"Let's play a game! I'm going to save a number between 1 and 9, you have to guess it!\")\n",
    "counter = 0\n",
    "\n",
    "while True:\n",
    "    \n",
    "    answer = random.randint(1,9)\n",
    "    print(answer)\n",
    "    number = int(input(\"Introduce a number between 1-9: \"))\n",
    "\n",
    "    if answer == number:\n",
    "        print('Your number is the correct one! you win')\n",
    "        counter += 1\n",
    "    elif number > answer:\n",
    "        print('Your number is bigger')\n",
    "    else:\n",
    "        print('Your number is smaller')\n",
    "    \n",
    "    follow = str(input('Another game? write \"exit\" to quit '))\n",
    "    if follow == 'exit':\n",
    "            break\n",
    "            \n",
    "if counter == 1:\n",
    "    print('You have won {} time'.format(counter))\n",
    "\n",
    "else:\n",
    "     print('You have won {} times'.format(counter))"
   ]
  },
  {
   "cell_type": "code",
   "execution_count": null,
   "metadata": {},
   "outputs": [],
   "source": []
  }
 ],
 "metadata": {
  "kernelspec": {
   "display_name": "Python 3",
   "language": "python",
   "name": "python3"
  },
  "language_info": {
   "codemirror_mode": {
    "name": "ipython",
    "version": 3
   },
   "file_extension": ".py",
   "mimetype": "text/x-python",
   "name": "python",
   "nbconvert_exporter": "python",
   "pygments_lexer": "ipython3",
   "version": "3.6.4"
  }
 },
 "nbformat": 4,
 "nbformat_minor": 2
}
