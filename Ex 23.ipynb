{
 "cells": [
  {
   "cell_type": "code",
   "execution_count": 1,
   "metadata": {},
   "outputs": [],
   "source": [
    "# Given two .txt files that have lists of numbers in them, find the numbers that are overlapping. One .txt file has a list of all prime numbers under 1000, and the other .txt file has a list of happy numbers up to 1000.\n",
    "\n",
    "# (If you forgot, prime numbers are numbers that can’t be divided by any other number. And yes, happy numbers are a real thing in mathematics - you can look it up on Wikipedia. The explanation is easier with an example, which I will describe below.)"
   ]
  },
  {
   "cell_type": "code",
   "execution_count": 9,
   "metadata": {},
   "outputs": [
    {
     "name": "stdout",
     "output_type": "stream",
     "text": [
      "The numbers in common are ['7', '13', '19', '23', '31', '79', '97', '103', '109', '139', '167', '193', '239', '263', '293', '313', '331', '367', '379', '383', '397', '409', '487', '563', '617', '653', '673', '683', '709', '739', '761', '863', '881', '907', '937']\n"
     ]
    }
   ],
   "source": [
    "prime_nums = []\n",
    "with open('primenumbers.txt','r') as f:\n",
    "    line = f.readline()\n",
    "    while line:\n",
    "        line = line.strip()\n",
    "        prime_nums.append(line)\n",
    "        line = f.readline()\n",
    "\n",
    "common_nums = []\n",
    "\n",
    "with open('happynumbers.txt') as h:\n",
    "    line = h.readline()\n",
    "    while line:\n",
    "        line = line.strip()\n",
    "        if line in prime_nums:\n",
    "            common_nums.append(line)\n",
    "        line = h.readline()\n",
    "\n",
    "print('The numbers in common are {}'.format(common_nums))\n"
   ]
  },
  {
   "cell_type": "code",
   "execution_count": null,
   "metadata": {},
   "outputs": [],
   "source": []
  },
  {
   "cell_type": "code",
   "execution_count": null,
   "metadata": {},
   "outputs": [],
   "source": []
  }
 ],
 "metadata": {
  "kernelspec": {
   "display_name": "Python 3",
   "language": "python",
   "name": "python3"
  },
  "language_info": {
   "codemirror_mode": {
    "name": "ipython",
    "version": 3
   },
   "file_extension": ".py",
   "mimetype": "text/x-python",
   "name": "python",
   "nbconvert_exporter": "python",
   "pygments_lexer": "ipython3",
   "version": "3.6.4"
  }
 },
 "nbformat": 4,
 "nbformat_minor": 2
}
