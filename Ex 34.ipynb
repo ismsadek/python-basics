{
 "cells": [
  {
   "cell_type": "code",
   "execution_count": 1,
   "metadata": {},
   "outputs": [],
   "source": [
    "import json"
   ]
  },
  {
   "cell_type": "code",
   "execution_count": 2,
   "metadata": {},
   "outputs": [],
   "source": [
    "with open(\"birthdays_info.json\",\"r\") as f:\n",
    "    birthdays = json.load(f)"
   ]
  },
  {
   "cell_type": "code",
   "execution_count": 4,
   "metadata": {},
   "outputs": [
    {
     "name": "stdout",
     "output_type": "stream",
     "text": [
      "Welcome to the birthday dictionary. We know the birthdays of: \n",
      "Mariam \n",
      " Crestian \n",
      " Varitos \n",
      " Ismael \n",
      "\n",
      "Who's birthday do you want to look up? Mariam\n",
      "Mariam's birthday is 22/02/1997 \n"
     ]
    }
   ],
   "source": [
    "def findTheBirthday(choice):\n",
    "    \n",
    "    if choice in birthdays:\n",
    "        return birthdays[choice]\n",
    "\n",
    "print(\"Welcome to the birthday dictionary. We know the birthdays of: \")\n",
    "print(\"Mariam \\n Crestian \\n Varitos \\n Ismael \\n\")\n",
    "choice = input(\"Who's birthday do you want to look up? \")\n",
    "date = findTheBirthday(choice)\n",
    "print(\"{}'s birthday is {} \".format(choice,date))"
   ]
  },
  {
   "cell_type": "code",
   "execution_count": null,
   "metadata": {},
   "outputs": [],
   "source": []
  }
 ],
 "metadata": {
  "kernelspec": {
   "display_name": "Python 3",
   "language": "python",
   "name": "python3"
  },
  "language_info": {
   "codemirror_mode": {
    "name": "ipython",
    "version": 3
   },
   "file_extension": ".py",
   "mimetype": "text/x-python",
   "name": "python",
   "nbconvert_exporter": "python",
   "pygments_lexer": "ipython3",
   "version": "3.6.4"
  }
 },
 "nbformat": 4,
 "nbformat_minor": 2
}
